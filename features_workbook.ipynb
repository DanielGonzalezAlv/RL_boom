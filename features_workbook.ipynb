{
 "cells": [
  {
   "cell_type": "code",
   "execution_count": 1,
   "metadata": {},
   "outputs": [
    {
     "name": "stdout",
     "output_type": "stream",
     "text": [
      "pygame 1.9.4\n",
      "Hello from the pygame community. https://www.pygame.org/contribute.html\n"
     ]
    }
   ],
   "source": [
    "import pickle\n",
    "import numpy as np\n",
    "from random import shuffle\n",
    "import agent_code.my_agent.algorithms as alg\n",
    "from settings import s\n",
    "import time\n",
    "import matplotlib.pyplot as plt\n",
    "import copy"
   ]
  },
  {
   "cell_type": "code",
   "execution_count": 2,
   "metadata": {},
   "outputs": [],
   "source": [
    "file = open('C:/Users/Lily/Documents/UNI/FML/project/local_branch/data-collection/75-crate-no-opponents.pickle', 'rb')\n",
    "data = pickle.load(file)\n",
    "data = sorted(data, key=lambda k: k['state']['step'])"
   ]
  },
  {
   "cell_type": "code",
   "execution_count": 69,
   "metadata": {},
   "outputs": [],
   "source": [
    "def get_blast_coords(bomb, arena, arr):\n",
    "    x, y = bomb[0], bomb[1]\n",
    "    if len(arr)== 0:\n",
    "       arr = [(x,y)]\n",
    "       #np.append(a, [[0,1]], axis=0)\n",
    "    \n",
    "    for i in range(1, 3+1):\n",
    "        if arena[x+i,y] == -1: break\n",
    "        arr.append((x+i,y))\n",
    "    for i in range(1, 3+1):\n",
    "        if arena[x-i,y] == -1: break\n",
    "        arr.append((x-i,y))           \n",
    "    for i in range(1, 3+1):\n",
    "        if arena[x,y+i] == -1: break\n",
    "        arr.append((x,y+i))            \n",
    "    for i in range(1, 3+1):\n",
    "        if arena[x,y-i] == -1: break\n",
    "        arr.append((x,y-i))\n",
    "    return arr"
   ]
  },
  {
   "cell_type": "code",
   "execution_count": 6,
   "metadata": {},
   "outputs": [],
   "source": [
    "def look_for_targets(free_space, start, targets, logger=None):\n",
    "    \"\"\"Find direction of closest target that can be reached via free tiles.\n",
    "    Performs a breadth-first search of the reachable free tiles until a target is encountered.\n",
    "    If no target can be reached, the path that takes the agent closest to any target is chosen.\n",
    "    Args:\n",
    "        free_space: Boolean numpy array. True for free tiles and False for obstacles.\n",
    "        start: the coordinate from which to begin the search.\n",
    "        targets: list or array holding the coordinates of all target tiles.\n",
    "        logger: optional logger object for debugging.\n",
    "    Returns:\n",
    "        coordinate of first step towards closest target or towards tile closest to any target.\n",
    "    USEFUL FOR feature1, feature4\n",
    "    \"\"\"\n",
    "    if len(targets) == 0: return None\n",
    "\n",
    "    frontier = [start]\n",
    "    parent_dict = {start: start}\n",
    "    dist_so_far = {start: 0}\n",
    "    best = start\n",
    "    best_dist = np.sum(np.abs(np.subtract(targets, start)), axis=1).min()\n",
    "\n",
    "    while len(frontier) > 0:\n",
    "        current = frontier.pop(0)\n",
    "        # Find distance from current position to all targets, track closest\n",
    "        d = np.sum(np.abs(np.subtract(targets, current)), axis=1).min()\n",
    "        if d + dist_so_far[current] <= best_dist:\n",
    "            best = current\n",
    "            best_dist = d + dist_so_far[current]\n",
    "        if d == 0:\n",
    "            # Found path to a target's exact position, mission accomplished!\n",
    "            best = current\n",
    "            break\n",
    "        # Add unexplored free neighboring tiles to the queue in a random order\n",
    "        x, y = current\n",
    "        neighbors = [(x,y) for (x,y) in [(x+1,y), (x-1,y), (x,y+1), (x,y-1)] if free_space[x,y]]\n",
    "        shuffle(neighbors)\n",
    "        for neighbor in neighbors:\n",
    "            if neighbor not in parent_dict:\n",
    "                frontier.append(neighbor)\n",
    "                parent_dict[neighbor] = current\n",
    "                dist_so_far[neighbor] = dist_so_far[current] + 1\n",
    "    if logger: logger.debug(f'Suitable target found at {best}')\n",
    "    # Determine the first step towards the best found target tile\n",
    "    current = best\n",
    "    while True:\n",
    "        if parent_dict[current] == start: return current\n",
    "        current = parent_dict[current]"
   ]
  },
  {
   "cell_type": "code",
   "execution_count": 157,
   "metadata": {},
   "outputs": [],
   "source": [
    "def feature4(game_state):\n",
    "    '''\n",
    "    This feature rewards the action that minimizes the distance to safety\n",
    "    should the agent be in the danger zone(where explosions will be).\n",
    "        F(s,a) = 1, should a reduces distance to safety\n",
    "        F(s,a) = 0, otherwise\n",
    "    F(s,a) returns 0 if we are not in the danger zone   \n",
    "    \n",
    "    We begin by extracting all relevant information from game_state\n",
    "    '''\n",
    "    agent = game_state['self']\n",
    "    arena = game_state['arena']\n",
    "    bombs = game_state['bombs']\n",
    "    '''\n",
    "    and initializing the resulting vector\n",
    "    '''\n",
    "    res = np.zeros(6, dtype=np.int8)\n",
    "    if len(bombs) != 0:\n",
    "        print('there are bombs')\n",
    "        '''\n",
    "        If there are bombs on the game board, we map all the explosions\n",
    "        that will be caused by the bombs. For this, we use the help function\n",
    "        get_blast_coords. This is an adjusted version of the function with the\n",
    "        same name from item.py of the original framework\n",
    "        '''\n",
    "        danger_zone = []\n",
    "        for b in bombs:\n",
    "            danger_zone = get_blast_coords(b, arena, danger_zone)\n",
    "        print(danger_zone)\n",
    "        '''\n",
    "        We then check if the agent is in the danger zone\n",
    "        If agent is not in the danger zone, we return 0.\n",
    "        Otherwise we calculate the distance/direction of safety.\n",
    "        '''\n",
    "        print(agent[0], agent[1])\n",
    "        if (agent[0], agent[1]) in danger_zone:\n",
    "            print('in danger zone')\n",
    "            '''\n",
    "            we then mark these explosions on our map. here we deep-copy\n",
    "            the arena, so that in the case that the arena is needed for\n",
    "            other features, it remains unchanged\n",
    "            '''\n",
    "            #map_ = copy.deepcopy(arena)\n",
    "            #[ arena[a[0],a[1]] for a in arr]\n",
    "            \n",
    "            for coord in danger_zone:\n",
    "                arena[coord]  = 2\n",
    "            for b in bombs:\n",
    "                arena[b[0], b[1]] = -1\n",
    "            #map_[danger_zone[:,0], danger_zone[:,1]] = 2\n",
    "            '''\n",
    "            '''\n",
    "            safe_loc = np.argwhere(arena==0)\n",
    "            free_space = abs(arena) != 1\n",
    "            print(free_space, arena)\n",
    "\n",
    "            d = look_for_targets(free_space, (agent[0], agent[1]), safe_loc)\n",
    "            print(d)\n",
    "            '''\n",
    "            we then calculate the minimum distance of our agent to any of these safe locations.\n",
    "            For simplicity, only Manhattan distance is used to calculate distance in this\n",
    "            feature extraction. However, this doesn't always represent the true distance in the \n",
    "            game because of the walls.(Possible point of improvement?)\n",
    " \n",
    "            Then, we calculate the positions of our agent after taking all possible actions.\n",
    "            '''\n",
    "            \n",
    "            actions_loc = np.array([(agent[0], agent[1]-1), #up\n",
    "                                    (agent[0], agent[1]+1), #down\n",
    "                                    (agent[0]-1, agent[1]), #left\n",
    "                                    (agent[0]+1, agent[1]), #right\n",
    "                                    (agent[0], agent[1]),   #bomb\n",
    "                                    (agent[0], agent[1])])  #wait\n",
    "            \n",
    "            res = (actions_loc[:,0] == d[0]) & (actions_loc[:,1] == d[1])\n",
    "            res = res.astype(int)\n",
    "     \n",
    "    return res\n",
    "    "
   ]
  },
  {
   "cell_type": "code",
   "execution_count": 158,
   "metadata": {},
   "outputs": [
    {
     "name": "stdout",
     "output_type": "stream",
     "text": [
      "[]\n"
     ]
    }
   ],
   "source": [
    "# to easily change to different game states\n",
    "i = 2\n",
    "#extract information from game_state\n",
    "game_state = data[i]['state']\n",
    "explosions_i = np.argwhere(game_state['explosions'] != 0)\n",
    "print(explosions_i)"
   ]
  },
  {
   "cell_type": "code",
   "execution_count": 159,
   "metadata": {},
   "outputs": [
    {
     "name": "stdout",
     "output_type": "stream",
     "text": [
      "there are bombs\n",
      "[(14, 1), (15, 1), (13, 1), (12, 1), (11, 1)]\n",
      "15 1\n",
      "in danger zone\n",
      "[[False False False False False False False False False False False False\n",
      "  False False False False False]\n",
      " [False  True  True False False False False False False  True False False\n",
      "   True False  True  True False]\n",
      " [False  True False False False  True False False False  True False False\n",
      "  False False False  True False]\n",
      " [False False False False False False  True False False False False False\n",
      "  False False False  True False]\n",
      " [False False False False False False False False False False False  True\n",
      "  False False False False False]\n",
      " [False  True False  True False False False False False False False False\n",
      "   True  True  True False False]\n",
      " [False False False False False  True False False False False False False\n",
      "  False False False False False]\n",
      " [False  True False False False False False  True False False False False\n",
      "   True False False False False]\n",
      " [False  True False  True False False False False False False False False\n",
      "  False False False False False]\n",
      " [False False False False  True  True  True  True False  True False  True\n",
      "  False False False False False]\n",
      " [False False False False False False False False False False False False\n",
      "  False False False  True False]\n",
      " [False  True False False False False False False False  True False False\n",
      "  False  True  True False False]\n",
      " [False  True False  True False False False False False  True False False\n",
      "  False  True False False False]\n",
      " [False  True False False False False False  True False False  True False\n",
      "  False False False False False]\n",
      " [False False False False False False False False False False False  True\n",
      "  False  True False  True False]\n",
      " [False  True  True False  True False False False False False False False\n",
      "  False False  True  True False]\n",
      " [False False False False False False False False False False False False\n",
      "  False False False False False]] [[-1 -1 -1 -1 -1 -1 -1 -1 -1 -1 -1 -1 -1 -1 -1 -1 -1]\n",
      " [-1  0  0  1  1  1  1  1  1  0  1  1  0  1  0  0 -1]\n",
      " [-1  0 -1  1 -1  0 -1  1 -1  0 -1  1 -1  1 -1  0 -1]\n",
      " [-1  1  1  1  1  1  0  1  1  1  1  1  1  1  1  0 -1]\n",
      " [-1  1 -1  1 -1  1 -1  1 -1  1 -1  0 -1  1 -1  1 -1]\n",
      " [-1  0  1  0  1  1  1  1  1  1  1  1  0  0  0  1 -1]\n",
      " [-1  1 -1  1 -1  0 -1  1 -1  1 -1  1 -1  1 -1  1 -1]\n",
      " [-1  0  1  1  1  1  1  0  1  1  1  1  0  1  1  1 -1]\n",
      " [-1  0 -1  0 -1  1 -1  1 -1  1 -1  1 -1  1 -1  1 -1]\n",
      " [-1  1  1  1  0  0  0  0  1  0  1  0  1  1  1  1 -1]\n",
      " [-1  1 -1  1 -1  1 -1  1 -1  1 -1  1 -1  1 -1  0 -1]\n",
      " [-1  2  1  1  1  1  1  1  1  0  1  1  1  0  0  1 -1]\n",
      " [-1  2 -1  0 -1  1 -1  1 -1  0 -1  1 -1  0 -1  1 -1]\n",
      " [-1  2  1  1  1  1  1  0  1  1  0  1  1  1  1  1 -1]\n",
      " [-1 -1 -1  1 -1  1 -1  1 -1  1 -1  0 -1  0 -1  0 -1]\n",
      " [-1  2  0  1  0  1  1  1  1  1  1  1  1  1  0  0 -1]\n",
      " [-1 -1 -1 -1 -1 -1 -1 -1 -1 -1 -1 -1 -1 -1 -1 -1 -1]]\n",
      "(15, 2)\n"
     ]
    },
    {
     "data": {
      "text/plain": [
       "array([0, 1, 0, 0, 0, 0])"
      ]
     },
     "execution_count": 159,
     "metadata": {},
     "output_type": "execute_result"
    }
   ],
   "source": [
    "#feat_dist_to_safe(game_state)\n",
    "#print(feature4(game_state), data[i+1]['next-action'])\n",
    "#print(game_state['self'], data[i-1]['state']['self'])\n",
    "#feature4(game_state)\n",
    "feature4(game_state)"
   ]
  },
  {
   "cell_type": "code",
   "execution_count": 111,
   "metadata": {},
   "outputs": [
    {
     "data": {
      "text/plain": [
       "[(15, 2, 0)]"
      ]
     },
     "execution_count": 111,
     "metadata": {},
     "output_type": "execute_result"
    }
   ],
   "source": [
    "arena[explosions_i[:,0], explosions_i[:,1]]\n",
    "game_state['bombs']"
   ]
  },
  {
   "cell_type": "code",
   "execution_count": 105,
   "metadata": {},
   "outputs": [
    {
     "name": "stdout",
     "output_type": "stream",
     "text": [
      "[(15, 2), (15, 3), (15, 4), (15, 5), (15, 1)]\n"
     ]
    },
    {
     "data": {
      "text/plain": [
       "array([[-1, -1, -1, -1, -1, -1, -1, -1, -1, -1, -1, -1, -1, -1, -1, -1,\n",
       "        -1],\n",
       "       [-1,  0,  0,  1,  1,  1,  1,  1,  1,  0,  1,  1,  0,  1,  0,  0,\n",
       "        -1],\n",
       "       [-1,  0, -1,  1, -1,  0, -1,  1, -1,  0, -1,  1, -1,  1, -1,  0,\n",
       "        -1],\n",
       "       [-1,  1,  1,  1,  1,  1,  0,  1,  1,  1,  1,  1,  1,  1,  1,  0,\n",
       "        -1],\n",
       "       [-1,  1, -1,  1, -1,  1, -1,  1, -1,  1, -1,  0, -1,  1, -1,  1,\n",
       "        -1],\n",
       "       [-1,  0,  1,  0,  1,  1,  1,  1,  1,  1,  1,  1,  0,  0,  0,  1,\n",
       "        -1],\n",
       "       [-1,  1, -1,  1, -1,  0, -1,  1, -1,  1, -1,  1, -1,  1, -1,  1,\n",
       "        -1],\n",
       "       [-1,  0,  1,  1,  1,  1,  1,  0,  1,  1,  1,  1,  0,  1,  1,  1,\n",
       "        -1],\n",
       "       [-1,  0, -1,  0, -1,  1, -1,  1, -1,  1, -1,  1, -1,  1, -1,  1,\n",
       "        -1],\n",
       "       [-1,  1,  1,  1,  0,  0,  0,  0,  1,  0,  1,  0,  1,  1,  1,  1,\n",
       "        -1],\n",
       "       [-1,  1, -1,  1, -1,  1, -1,  1, -1,  1, -1,  1, -1,  1, -1,  0,\n",
       "        -1],\n",
       "       [-1,  0,  1,  1,  1,  1,  1,  1,  1,  0,  1,  1,  1,  0,  0,  1,\n",
       "        -1],\n",
       "       [-1,  0, -1,  0, -1,  1, -1,  1, -1,  0, -1,  1, -1,  0, -1,  1,\n",
       "        -1],\n",
       "       [-1,  0,  1,  1,  1,  1,  1,  0,  1,  1,  0,  1,  1,  1,  1,  1,\n",
       "        -1],\n",
       "       [-1,  0, -1,  1, -1,  1, -1,  1, -1,  1, -1,  0, -1,  0, -1,  0,\n",
       "        -1],\n",
       "       [-1,  2,  2,  2,  2,  2,  1,  1,  1,  1,  1,  1,  1,  1,  0,  0,\n",
       "        -1],\n",
       "       [-1, -1, -1, -1, -1, -1, -1, -1, -1, -1, -1, -1, -1, -1, -1, -1,\n",
       "        -1]])"
      ]
     },
     "execution_count": 105,
     "metadata": {},
     "output_type": "execute_result"
    }
   ],
   "source": [
    "arr = []\n",
    "b = game_state['bombs'][0]\n",
    "arr = get_blast_coords(b, game_state['arena'], arr)\n",
    "#arr.append((2,3))\n",
    "arena = game_state['arena']\n",
    "print(arr)\n",
    "for a in arr:\n",
    "    arena[a] = 2\n",
    "np.ar"
   ]
  },
  {
   "cell_type": "code",
   "execution_count": 156,
   "metadata": {},
   "outputs": [
    {
     "name": "stdout",
     "output_type": "stream",
     "text": [
      "[0 1 2 3]\n",
      "3\n"
     ]
    }
   ],
   "source": [
    "a = np.arange(4)\n",
    "print(a)\n",
    "print(np.max(a))"
   ]
  }
 ],
 "metadata": {
  "kernelspec": {
   "display_name": "Python 3",
   "language": "python",
   "name": "python3"
  },
  "language_info": {
   "codemirror_mode": {
    "name": "ipython",
    "version": 3
   },
   "file_extension": ".py",
   "mimetype": "text/x-python",
   "name": "python",
   "nbconvert_exporter": "python",
   "pygments_lexer": "ipython3",
   "version": "3.6.6"
  }
 },
 "nbformat": 4,
 "nbformat_minor": 2
}
