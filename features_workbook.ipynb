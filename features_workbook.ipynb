{
 "cells": [
  {
   "cell_type": "code",
   "execution_count": 262,
   "metadata": {},
   "outputs": [],
   "source": [
    "import pickle\n",
    "import numpy as np\n",
    "from random import shuffle\n",
    "import agent_code.my_agent.algorithms as alg\n",
    "from settings import s\n",
    "import time\n",
    "import matplotlib.pyplot as plt\n"
   ]
  },
  {
   "cell_type": "code",
   "execution_count": 282,
   "metadata": {},
   "outputs": [],
   "source": [
    "file = open('C:/Users/Lily/Documents/UNI/FML/project/local_branch/data-collection/75-crate-no-opponents.pickle', 'rb')\n",
    "data = pickle.load(file)\n",
    "data = sorted(data, key=lambda k: k['state']['step'])"
   ]
  },
  {
   "cell_type": "code",
   "execution_count": 283,
   "metadata": {},
   "outputs": [
    {
     "data": {
      "text/plain": [
       "dict_keys(['step', 'arena', 'self', 'others', 'bombs', 'coins', 'explosions', 'user_input', 'exit'])"
      ]
     },
     "execution_count": 283,
     "metadata": {},
     "output_type": "execute_result"
    }
   ],
   "source": [
    "# to easily change to different game states\n",
    "i = 35\n",
    "\n",
    "#extract information from game_state\n",
    "game_state = data[i]['state']\n",
    "\n",
    "agent = game_state['self']\n",
    "actions = s.actions\n",
    "\n",
    "arena = game_state['arena']\n",
    "explosions = game_state['explosions']\n",
    "bombs = game_state['bombs']\n",
    "game_state.keys()"
   ]
  },
  {
   "cell_type": "code",
   "execution_count": 284,
   "metadata": {},
   "outputs": [
    {
     "data": {
      "text/plain": [
       "array([0, 0, 1, 0, 0, 0])"
      ]
     },
     "execution_count": 284,
     "metadata": {},
     "output_type": "execute_result"
    }
   ],
   "source": [
    "'''\n",
    "for each action, we calculate the agent location after taking said action.\n",
    "We call this action coordinate\n",
    "'''\n",
    "action_coord = np.array([[agent[0], agent[1]-1],\n",
    "                        [agent[0], agent[1]+1],\n",
    "                        [agent[0]-1, agent[1]],\n",
    "                        [agent[0]+1, agent[1]],\n",
    "                        [agent[0], agent[1]],\n",
    "                        [agent[0], agent[1]]])\n",
    "#accessing action coordinates on the arena\n",
    "arena[action_coord[:, 0], action_coord[:,1]]\n"
   ]
  },
  {
   "cell_type": "code",
   "execution_count": 285,
   "metadata": {},
   "outputs": [],
   "source": [
    "def bomb_range(bomb, arena): \n",
    "    #see the sides of a bomb\n",
    "    bomb_sides = np.array([[bomb[0], bomb[1]-1], #up\n",
    "                           [bomb[0], bomb[1]+1], #down\n",
    "                           [bomb[0]-1, bomb[1]], #left\n",
    "                           [bomb[0]+1, bomb[1]]]) #right\n",
    "    #check_walls check if there's any walls next to a bomb\n",
    "    check_walls = arena[bomb_sides[:, 0], bomb_sides[:,1]]\n",
    "    #theoretical range of bomb without walls             \n",
    "    explosion = np.array([bomb[1]-s.bomb_power, #up\n",
    "                          bomb[1]+s.bomb_power, #down\n",
    "                          bomb[0]-s.bomb_power, #left\n",
    "                          bomb[0]+s.bomb_power]) #right\n",
    "    \n",
    "    explosion[np.where(check_walls == -1)] = 0\n",
    "    \n",
    "    return explosion"
   ]
  },
  {
   "cell_type": "code",
   "execution_count": 286,
   "metadata": {},
   "outputs": [],
   "source": [
    "def bomb_map(arena, bombs): \n",
    "    bomb_map = np.ones(arena.shape) * 5\n",
    "    for xb,yb,t in bombs:\n",
    "        for (i,j) in [(xb+h, yb) for h in range(-3,4)] + [(xb, yb+h) for h in range(-3,4)]:\n",
    "            if (0 < i < bomb_map.shape[0]) and (0 < j < bomb_map.shape[1]):\n",
    "                bomb_map[i,j] = min(bomb_map[i,j], t)\n",
    "                    \n",
    "    return bomb_map"
   ]
  },
  {
   "cell_type": "code",
   "execution_count": 287,
   "metadata": {},
   "outputs": [
    {
     "data": {
      "text/plain": [
       "array([14., 14., 14., 14., 14., 14., 14., 14., 14., 14., 14., 14., 14.,\n",
       "       14., 14., 14., 14.])"
      ]
     },
     "execution_count": 287,
     "metadata": {},
     "output_type": "execute_result"
    }
   ],
   "source": [
    "abs(agent_loc[0]- explosions[:,0]) + abs(agent_loc[1] - explosions[:,1])"
   ]
  },
  {
   "cell_type": "code",
   "execution_count": 288,
   "metadata": {},
   "outputs": [
    {
     "name": "stdout",
     "output_type": "stream",
     "text": [
      "0.0\n",
      "0.0\n"
     ]
    }
   ],
   "source": [
    "start = time.time()\n",
    "bomb_map(arena, bombs)\n",
    "end = time.time()\n",
    "print(end-start)\n",
    "\n",
    "\n",
    "start = time.time()\n",
    "bomb_range(bomb, arena)\n",
    "end = time.time()\n",
    "print(end-start)"
   ]
  },
  {
   "cell_type": "code",
   "execution_count": 289,
   "metadata": {
    "scrolled": true
   },
   "outputs": [
    {
     "data": {
      "text/plain": [
       "<matplotlib.image.AxesImage at 0x1ca13fed710>"
      ]
     },
     "execution_count": 289,
     "metadata": {},
     "output_type": "execute_result"
    },
    {
     "data": {
      "image/png": "[encoded data removed]",
      "text/plain": [
       "<Figure size 432x288 with 1 Axes>"
      ]
     },
     "metadata": {
      "needs_background": "light"
     },
     "output_type": "display_data"
    }
   ],
   "source": [
    "plt.imshow(bomb_map(arena, bombs))\n",
    "#print(bomb_map(arena, bombs))"
   ]
  },
  {
   "cell_type": "code",
   "execution_count": 290,
   "metadata": {},
   "outputs": [
    {
     "data": {
      "text/plain": [
       "<matplotlib.image.AxesImage at 0x1ca161e4be0>"
      ]
     },
     "execution_count": 290,
     "metadata": {},
     "output_type": "execute_result"
    },
    {
     "data": {
      "image/png": "[encoded data removed]",
      "text/plain": [
       "<Figure size 432x288 with 1 Axes>"
      ]
     },
     "metadata": {
      "needs_background": "light"
     },
     "output_type": "display_data"
    }
   ],
   "source": [
    "plt.imshow(arena)"
   ]
  },
  {
   "cell_type": "code",
   "execution_count": 335,
   "metadata": {},
   "outputs": [
    {
     "name": "stdout",
     "output_type": "stream",
     "text": [
      "3\n",
      "[0 0 0 1 0 0]\n"
     ]
    }
   ],
   "source": [
    "def feat_dist_to_safe(game_state):\n",
    "    '''\n",
    "    We begin by extracting all relevant information \n",
    "    '''\n",
    "    res = np.zeros(6, dtype=np.int8)\n",
    "    if len(bombs) != 0:\n",
    "        '''\n",
    "        create map of explosion, similar to simple_agent\n",
    "        from this map, we extract the locations of possible\n",
    "        explosions (the x and y values) and save them in \n",
    "        the matrix explosions\n",
    "        '''\n",
    "        explosions = bomb_map(arena, bombs)\n",
    "        explosions = np.argwhere(explosions < 5)\n",
    "        \n",
    "        '''\n",
    "        we then mark these explosions on our map. here we deep-copy\n",
    "        the arena, so that in the case that the arena is needed for\n",
    "        other features, it remains unchanged\n",
    "        '''\n",
    "        map = copy.deepcopy(arena)\n",
    "        map[explosions[:,0], explosions[:,1]] = 2\n",
    "        \n",
    "        '''\n",
    "        to take consideration of only the necessary area and not the whole map,\n",
    "        we create a patch of the map surrounding where the explosions will be.\n",
    "        To do this, we calculate the min_x, min_y, max_x, and max_y of the explosion\n",
    "        locations and create a box surrounding all the explosions using these points\n",
    "        '''\n",
    "        min_x = np.amin(explosions[:,0])-1%17\n",
    "        min_y = np.amin(explosions[:,1])-1%17\n",
    "        max_x = np.amax(explosions[:,0])+2%17\n",
    "        max_y = np.amax(explosions[:,1])+2%17\n",
    "        \n",
    "        patch = map[ min_x:max_x, min_y:max_y ]\n",
    "        #print(patch)\n",
    "\n",
    "        '''\n",
    "        now that we have the patch with all the explosions marked, we can find the \n",
    "        safe locations on the map. These would be the tiles marked as 0 \n",
    "        '''\n",
    "        safe_loc = np.argwhere(patch==0)\n",
    "        #print(safe_loc)\n",
    "        \n",
    "        '''\n",
    "        we then calculate the minimum distance of our agent to any of these safe locations.\n",
    "        For simplicity, only Manhattan distance is used to calculate distance in this\n",
    "        feature extraction. However, this doesn't always represent the true distance in the \n",
    "        game because of the walls.(Possible point of improvement?)\n",
    "        '''\n",
    "        agent_loc = np.array([agent[0], agent[1]])\n",
    "        dist_to_safe = np.min(abs(agent_loc[0]- safe_loc[:,0]) + abs(agent_loc[1] - safe_loc[:,1]))\n",
    "        print(dist_to_safe)\n",
    "        \n",
    "        '''\n",
    "        Then, we calculate the positions of our agent after taking all possible actions.\n",
    "        '''\n",
    "        actions_loc = np.array([[agent[0], agent[1]-1],\n",
    "                                [agent[0], agent[1]+1],\n",
    "                                [agent[0]-1, agent[1]],\n",
    "                                [agent[0]+1, agent[1]],\n",
    "                                [agent[0], agent[1]],\n",
    "                                [agent[0], agent[1]]])\n",
    "        '''\n",
    "        For each of these new positions, we then calculate the minimum distance from the new \n",
    "        position to the safe locations.\n",
    "        '''\n",
    "        new_dist_to_safe = [np.min(abs(action[0]- safe_loc[:,0]) + \n",
    "                                  abs(action[1] - safe_loc[:,1])) for action in actions_loc]\n",
    "        \n",
    "        '''\n",
    "        \n",
    "        '''\n",
    "        temp = dist_to_safe - new_dist_to_safe \n",
    "        res[np.where(t<0)] = 1\n",
    "\n",
    "    print(res)\n",
    "    "
   ]
  }
 ],
 "metadata": {
  "kernelspec": {
   "display_name": "Python 3",
   "language": "python",
   "name": "python3"
  },
  "language_info": {
   "codemirror_mode": {
    "name": "ipython",
    "version": 3
   },
   "file_extension": ".py",
   "mimetype": "text/x-python",
   "name": "python",
   "nbconvert_exporter": "python",
   "pygments_lexer": "ipython3",
   "version": "3.6.6"
  }
 },
 "nbformat": 4,
 "nbformat_minor": 2
}
